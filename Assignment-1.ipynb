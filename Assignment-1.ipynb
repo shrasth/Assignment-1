{
 "cells": [
  {
   "cell_type": "markdown",
   "id": "106c3dd3-5115-4d00-985b-e76dc98af48e",
   "metadata": {},
   "source": [
    "**Q1. Create one variable containing following type of data:**\n",
    "* string\n",
    "*  list\n",
    "* float\n",
    "*  tuple"
   ]
  },
  {
   "cell_type": "code",
   "execution_count": 1,
   "id": "38744e4f-5087-452b-8c43-e19058004ab7",
   "metadata": {},
   "outputs": [],
   "source": [
    "# String\n",
    "\n",
    "s = \"Shrasth Kumar\""
   ]
  },
  {
   "cell_type": "code",
   "execution_count": 2,
   "id": "5c727b9c-bd5a-41b2-a2f5-40a8b3f8d7fd",
   "metadata": {},
   "outputs": [],
   "source": [
    "#list\n",
    "\n",
    "l = [2,3,4,5,\"pw\",True, 7+6j]"
   ]
  },
  {
   "cell_type": "code",
   "execution_count": 3,
   "id": "fdc737b5-20d8-4e20-8ab2-06d6214ea790",
   "metadata": {},
   "outputs": [],
   "source": [
    "# float\n",
    "\n",
    "f = 6.14"
   ]
  },
  {
   "cell_type": "code",
   "execution_count": 4,
   "id": "6ed313fd-cbd0-4755-aa94-5edd2a3cc602",
   "metadata": {},
   "outputs": [],
   "source": [
    "# Tuple\n",
    "\n",
    "t = (2,3,4,5,6)"
   ]
  },
  {
   "cell_type": "markdown",
   "id": "f07fde9c-5441-41b6-82f4-5245b01ed8b5",
   "metadata": {},
   "source": [
    "**Q2. Given are some following variables containing data:**\n",
    "* var1 = ‘ ‘\n",
    "* var2 = ‘[ DS , ML , Python]’\n",
    "* var3 = [ ‘DS’ , ’ML’ , ‘Python’ ]\n",
    "* var4 = 1.\n",
    "\n",
    "What will be the data type of the above given variable."
   ]
  },
  {
   "cell_type": "markdown",
   "id": "59df7ac8-1f04-4b3e-8681-5fff4cb4c305",
   "metadata": {},
   "source": [
    "* var1 = ' ' is a string\n",
    "* var2 = ‘[ DS , ML , Python]’ is a string\n",
    "* var3 = [ ‘DS’ , ’ML’ , ‘Python’ ] is a list\n",
    "* var4 = 1. is a float"
   ]
  },
  {
   "cell_type": "markdown",
   "id": "1e942b45-1fcb-4b60-ab8d-8b4a0bdfb894",
   "metadata": {},
   "source": [
    "**Q3. Explain the use of the following operators using an example:**\n",
    "\n",
    "1. /\n",
    "1.  %\n",
    "1. //\n",
    "1.  **"
   ]
  },
  {
   "cell_type": "markdown",
   "id": "2dde5754-0a10-4a80-90a4-8658dd549f01",
   "metadata": {},
   "source": [
    "**Division operator ('/')**\n",
    "\n",
    "The division operator is used for division between two operands."
   ]
  },
  {
   "cell_type": "code",
   "execution_count": 12,
   "id": "8c09b50f-ae23-44b3-a979-289a82e70406",
   "metadata": {},
   "outputs": [
    {
     "name": "stdout",
     "output_type": "stream",
     "text": [
      "2.0\n"
     ]
    }
   ],
   "source": [
    "# Example for division operator:\n",
    "a = 6\n",
    "b=3\n",
    "\n",
    "div = a/b\n",
    "print(div)"
   ]
  },
  {
   "cell_type": "markdown",
   "id": "ceb3c543-e4f1-4132-ae79-bff117419be6",
   "metadata": {},
   "source": [
    "**Modulo operator ('%')**\n",
    "\n",
    "The modulo operator returns the remainder between two operands."
   ]
  },
  {
   "cell_type": "code",
   "execution_count": 14,
   "id": "1fe05d80-079c-424b-aec5-a242c8cf308c",
   "metadata": {},
   "outputs": [
    {
     "name": "stdout",
     "output_type": "stream",
     "text": [
      "2\n"
     ]
    }
   ],
   "source": [
    "#Example of Modulo operator:\n",
    "a = 6\n",
    "b=4\n",
    "\n",
    "rem = a%b\n",
    "print(rem)"
   ]
  },
  {
   "cell_type": "markdown",
   "id": "8c632dec-8cf6-43da-aa40-ebdb273460b0",
   "metadata": {},
   "source": [
    "**Floor Division Operator ('//')**\n",
    "\n",
    "The floor division operator performs division between two operands"
   ]
  },
  {
   "cell_type": "code",
   "execution_count": 17,
   "id": "8e2c31c7-b0fb-44e7-a5f6-265d98d84721",
   "metadata": {},
   "outputs": [
    {
     "name": "stdout",
     "output_type": "stream",
     "text": [
      "2\n"
     ]
    }
   ],
   "source": [
    "#Example for floor division operator ('//')\n",
    "\n",
    "a = 7\n",
    "b=3\n",
    "\n",
    "floor = a//b\n",
    "print(floor)"
   ]
  },
  {
   "cell_type": "markdown",
   "id": "af66ac2c-ddeb-4944-986e-d6ef7c192423",
   "metadata": {},
   "source": [
    "**Power Operator ('**')**\n",
    "\n",
    "The power operator ** raises the first operand to the power of the second operand."
   ]
  },
  {
   "cell_type": "code",
   "execution_count": 19,
   "id": "5013729a-d772-4b54-bb04-c35b51d494e2",
   "metadata": {},
   "outputs": [
    {
     "name": "stdout",
     "output_type": "stream",
     "text": [
      "343\n"
     ]
    }
   ],
   "source": [
    "#Example for power operator ('**')\n",
    "\n",
    "a = 7\n",
    "b=3\n",
    "\n",
    "power = a**b\n",
    "print(power)"
   ]
  },
  {
   "cell_type": "markdown",
   "id": "16cf6471-846f-4404-b0a3-36e1aa69b9e6",
   "metadata": {},
   "source": [
    "**Q4. Create a list of length 10 of your choice containing multiple types of data. Using for loop print the element and its data type.**"
   ]
  },
  {
   "cell_type": "code",
   "execution_count": 20,
   "id": "0499a877-a641-44ee-9ac1-3a5922bb9993",
   "metadata": {},
   "outputs": [],
   "source": [
    "l = [2,3,4,56,73,\"sw\",\"team\",True,7+5j,14.28]"
   ]
  },
  {
   "cell_type": "code",
   "execution_count": 21,
   "id": "14cbae71-4a4e-4ca3-bbd3-7e741a980842",
   "metadata": {},
   "outputs": [
    {
     "name": "stdout",
     "output_type": "stream",
     "text": [
      "element: 2 \n",
      " Data type: <class 'int'>\n",
      "element: 3 \n",
      " Data type: <class 'int'>\n",
      "element: 4 \n",
      " Data type: <class 'int'>\n",
      "element: 56 \n",
      " Data type: <class 'int'>\n",
      "element: 73 \n",
      " Data type: <class 'int'>\n",
      "element: sw \n",
      " Data type: <class 'str'>\n",
      "element: team \n",
      " Data type: <class 'str'>\n",
      "element: True \n",
      " Data type: <class 'bool'>\n",
      "element: (7+5j) \n",
      " Data type: <class 'complex'>\n",
      "element: 14.28 \n",
      " Data type: <class 'float'>\n"
     ]
    }
   ],
   "source": [
    "for i in l:\n",
    "    print(f\"element: {i} \\n Data type: {type(i)}\")"
   ]
  },
  {
   "cell_type": "markdown",
   "id": "86595f21-8ec8-48cd-ad4b-3c572e889a2d",
   "metadata": {},
   "source": [
    "**Q5. Using a while loop, verify if the number A is purely divisible by number B and if so then how many times it can be divisible.**"
   ]
  },
  {
   "cell_type": "code",
   "execution_count": 5,
   "id": "2797b593-6b47-4e1b-9c7f-a930d2fe6093",
   "metadata": {},
   "outputs": [
    {
     "name": "stdout",
     "output_type": "stream",
     "text": [
      "A is not divisible by B.\n"
     ]
    }
   ],
   "source": [
    "A = 21\n",
    "B = 2\n",
    "count = 0\n",
    "\n",
    "while A>=B and A % B==0:\n",
    "    A = A // B\n",
    "    count +=1\n",
    "    \n",
    "if count !=0:\n",
    "    print(f\"A is divisible by B and it can be divided {count} times\")\n",
    "else:\n",
    "    print(f\"A is not divisible by B.\")"
   ]
  },
  {
   "cell_type": "markdown",
   "id": "d9d5543e-84a0-4722-b1b7-0cbb40f300a7",
   "metadata": {},
   "source": [
    "**Q6. Create a list containing 25 int type data. Using for loop and if-else condition print if the element is divisible by 3 or not.**"
   ]
  },
  {
   "cell_type": "code",
   "execution_count": 9,
   "id": "a98c0485-e58f-40d2-a8d5-c55ebd66957e",
   "metadata": {},
   "outputs": [
    {
     "name": "stdout",
     "output_type": "stream",
     "text": [
      "{i} is not divisible by 3\n",
      "{i} is divisible by 3\n",
      "{i} is divisible by 3\n",
      "{i} is not divisible by 3\n",
      "{i} is divisible by 3\n",
      "{i} is divisible by 3\n",
      "{i} is divisible by 3\n",
      "{i} is not divisible by 3\n",
      "{i} is not divisible by 3\n",
      "{i} is divisible by 3\n",
      "{i} is not divisible by 3\n",
      "{i} is divisible by 3\n",
      "{i} is not divisible by 3\n",
      "{i} is not divisible by 3\n",
      "{i} is not divisible by 3\n",
      "{i} is divisible by 3\n",
      "{i} is not divisible by 3\n",
      "{i} is not divisible by 3\n",
      "{i} is divisible by 3\n",
      "{i} is not divisible by 3\n",
      "{i} is not divisible by 3\n",
      "{i} is not divisible by 3\n",
      "{i} is not divisible by 3\n",
      "{i} is divisible by 3\n",
      "{i} is divisible by 3\n"
     ]
    }
   ],
   "source": [
    "d = [4, 9, 12, 7, 18, 15, 21, 2, 5, 30, 11, 27, 8, 13, 16, 33, 20, 22, 3, 10, 25, 14, 19, 24, 6]\n",
    "\n",
    "for i in d:\n",
    "    if i %3 ==0:\n",
    "        print(\"{i} is divisible by 3\")\n",
    "    else:\n",
    "        print(\"{i} is not divisible by 3\")"
   ]
  },
  {
   "cell_type": "markdown",
   "id": "d3a5a75e-f1dc-4b12-957d-fa7bef02dd02",
   "metadata": {},
   "source": [
    "**Q7. What do you understand about mutable and immutable data types? Give examples for both showing this property.**"
   ]
  },
  {
   "cell_type": "markdown",
   "id": "79ec3aa1-4220-456a-b9ed-9ed33b1a9af1",
   "metadata": {},
   "source": [
    "In immutables data types values cannot be changed once they are created."
   ]
  },
  {
   "cell_type": "code",
   "execution_count": 17,
   "id": "227fb6ac-18b2-48de-b42d-188df5af1987",
   "metadata": {},
   "outputs": [],
   "source": [
    "# For example here is the string s:\n",
    "\n",
    "s = \"Shrasth\""
   ]
  },
  {
   "cell_type": "code",
   "execution_count": 15,
   "id": "c2432c5d-9f9a-41b1-bb98-39eaff78584a",
   "metadata": {},
   "outputs": [
    {
     "data": {
      "text/plain": [
       "'Shrasth'"
      ]
     },
     "execution_count": 15,
     "metadata": {},
     "output_type": "execute_result"
    }
   ],
   "source": [
    "s"
   ]
  },
  {
   "cell_type": "code",
   "execution_count": 16,
   "id": "9038b2c6-44d4-447f-9786-cc25f683c5aa",
   "metadata": {},
   "outputs": [
    {
     "ename": "TypeError",
     "evalue": "'str' object does not support item assignment",
     "output_type": "error",
     "traceback": [
      "\u001b[0;31m---------------------------------------------------------------------------\u001b[0m",
      "\u001b[0;31mTypeError\u001b[0m                                 Traceback (most recent call last)",
      "Cell \u001b[0;32mIn[16], line 1\u001b[0m\n\u001b[0;32m----> 1\u001b[0m \u001b[43ms\u001b[49m\u001b[43m[\u001b[49m\u001b[38;5;241;43m2\u001b[39;49m\u001b[43m]\u001b[49m \u001b[38;5;241m=\u001b[39m \u001b[38;5;124m\"\u001b[39m\u001b[38;5;124mt\u001b[39m\u001b[38;5;124m\"\u001b[39m\n",
      "\u001b[0;31mTypeError\u001b[0m: 'str' object does not support item assignment"
     ]
    }
   ],
   "source": [
    "s[2] = \"t\""
   ]
  },
  {
   "cell_type": "markdown",
   "id": "c2d97110-e384-4d7b-973d-5a3920490119",
   "metadata": {},
   "source": [
    "While trying to replace \"r\" with \"t\" it showed a TypeError."
   ]
  },
  {
   "cell_type": "markdown",
   "id": "6b90945a-558b-4186-8256-9d0107ab8f96",
   "metadata": {},
   "source": [
    "In mutables data types values can be changed after they are created."
   ]
  },
  {
   "cell_type": "code",
   "execution_count": 18,
   "id": "30f89854-c491-471f-b0e6-e6c0512d4bf8",
   "metadata": {},
   "outputs": [],
   "source": [
    "# for example here is the list t:\n",
    "q = [2,3,4,56,73,\"sw\",\"team\",True,7+5j,14.28]"
   ]
  },
  {
   "cell_type": "code",
   "execution_count": 19,
   "id": "18ab0f74-c43c-492e-a619-8981d04f2238",
   "metadata": {},
   "outputs": [
    {
     "data": {
      "text/plain": [
       "[2, 3, 4, 56, 73, 'sw', 'team', True, (7+5j), 14.28]"
      ]
     },
     "execution_count": 19,
     "metadata": {},
     "output_type": "execute_result"
    }
   ],
   "source": [
    "q"
   ]
  },
  {
   "cell_type": "code",
   "execution_count": 20,
   "id": "e581b2ec-de77-4804-9afb-1cfc652b288f",
   "metadata": {},
   "outputs": [],
   "source": [
    "q[6] = False"
   ]
  },
  {
   "cell_type": "code",
   "execution_count": 21,
   "id": "030bfbdb-af5d-4b98-aaa7-19f7c9242c82",
   "metadata": {},
   "outputs": [
    {
     "data": {
      "text/plain": [
       "[2, 3, 4, 56, 73, 'sw', False, True, (7+5j), 14.28]"
      ]
     },
     "execution_count": 21,
     "metadata": {},
     "output_type": "execute_result"
    }
   ],
   "source": [
    "q"
   ]
  },
  {
   "cell_type": "markdown",
   "id": "7ec82656-105c-4d54-86f9-9f30cb6647d0",
   "metadata": {},
   "source": [
    "As you can see the value \"team\" has been replaced with value False"
   ]
  }
 ],
 "metadata": {
  "kernelspec": {
   "display_name": "Python 3 (ipykernel)",
   "language": "python",
   "name": "python3"
  },
  "language_info": {
   "codemirror_mode": {
    "name": "ipython",
    "version": 3
   },
   "file_extension": ".py",
   "mimetype": "text/x-python",
   "name": "python",
   "nbconvert_exporter": "python",
   "pygments_lexer": "ipython3",
   "version": "3.10.8"
  }
 },
 "nbformat": 4,
 "nbformat_minor": 5
}
